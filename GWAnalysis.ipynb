{
 "cells": [
  {
   "cell_type": "code",
   "execution_count": 1,
   "metadata": {
    "collapsed": true
   },
   "outputs": [],
   "source": [
    "% matplotlib inline\n",
    "\n",
    "import numpy as np\n",
    "\n",
    "from scipy.interpolate import interp1d\n",
    "from scipy.signal import butter, filtfilt, iirdesign, zpk2tf, freqz\n",
    "\n",
    "import matplotlib.pyplot as plt\n",
    "import matplotlib.mlab as mlab\n",
    "\n",
    "import h5py\n",
    "import pywt\n",
    "\n",
    "import readligo as rl"
   ]
  },
  {
   "cell_type": "code",
   "execution_count": 2,
   "metadata": {
    "collapsed": false
   },
   "outputs": [],
   "source": [
    "# function to whiten data\n",
    "def whiten(strain, interp_psd, dt):\n",
    "    Nt = len(strain)\n",
    "    freqs = np.fft.rfftfreq(Nt, dt)\n",
    "    \n",
    "    hf = np.fft.rfft(strain)\n",
    "    white_hf = hf / (np.sqrt(interp_psd(freqs)/dt/2.))\n",
    "    white_ht = np.fft.irfft(white_hf, n=Nt)\n",
    "    return white_ht"
   ]
  },
  {
   "cell_type": "code",
   "execution_count": 3,
   "metadata": {
    "collapsed": false
   },
   "outputs": [
    {
     "name": "stdout",
     "output_type": "stream",
     "text": [
      "Using data directory . ...\n"
     ]
    }
   ],
   "source": [
    "fs = 4096 # sampling rate\n",
    "\n",
    "# get segment list. note that for now, I'm only using a small amount of\n",
    "# data (1 file), but that this should be expandable to many more (currently\n",
    "# I have about 50GB worth of data cached on my home desktop, which should\n",
    "# be more than enough for this)\n",
    "start = 931049472\n",
    "stop = 931053568\n",
    "segList = rl.getsegs(start, stop, 'H1', flag='DATA')"
   ]
  },
  {
   "cell_type": "code",
   "execution_count": 13,
   "metadata": {
    "collapsed": false
   },
   "outputs": [
    {
     "name": "stdout",
     "output_type": "stream",
     "text": [
      "Using data directory . ...\n",
      "Loading ./cache/H-H1_LOSC_4_V1-931049472-4096.hdf5\n",
      "(2,)\n",
      "----------\n",
      "(2,)\n"
     ]
    },
    {
     "data": {
      "image/png": "[encoded data removed]",
      "text/plain": [
       "<matplotlib.figure.Figure at 0x7fda28a79ad0>"
      ]
     },
     "metadata": {},
     "output_type": "display_data"
    }
   ],
   "source": [
    "# loop over good segments\n",
    "N = 10000\n",
    "for (begin, end) in segList:\n",
    "    strain, meta, dq = rl.getstrain(begin, end, 'H1')\n",
    "    ts = meta['dt']\n",
    "    \n",
    "    # first whiten strain data\n",
    "    NFFT = 1*fs    \n",
    "    Pxx, freqs = mlab.psd(strain, Fs=fs, NFFT=NFFT)\n",
    "    psd = interp1d(freqs, Pxx)\n",
    "    \n",
    "    strain_whiten = whiten(strain,psd,ts)\n",
    "    \n",
    "    bb, ab = butter(4, [20.*2./fs, 300.*2./fs],btype='band') #butterworth bandpass\n",
    "    strain_whitenbp = filtfilt(bb, ab, strain_whiten)\n",
    "    \n",
    "    # then wavelet decomposition.\n",
    "    # returns [cA_n, cD_n, cD_n-1, ..., cD2, cD1]\n",
    "    # where n is the decomposition level, and cA are the approximation coefficient arry\n",
    "    # while cD are details coefficient arrays\n",
    "    coeffs = pywt.wavedec(strain_whitenbp, 'haar') # using haar for now, as thats what LIGO apparently uses for this. will do more research later to verify reasoning\n",
    "    D_coeffs = np.flipud(coeffs[1:]) # switching the order so that D_coeffs[i] corresponds to j=i+1 decomp level\n",
    "    \n",
    "    # normalize the coefficients - WIP: currently need to figure out how to \n",
    "    # put these all back into a single array the same shape as D_coeffs\n",
    "    # this is complicated by the fact that the arrays along axis 0 are all\n",
    "    # different shapes, and numpy does not seem to like that\n",
    "    sq_norm_coeffs = []\n",
    "    for D_co in D_coeffs:\n",
    "        normed = ((D_co**2) /  (np.std(D_co)**2))\n",
    "        sq_norm_coeffs.append(normed)\n",
    "    \n",
    "    # plot of the whitened data and unwhitened data\n",
    "    # not really relevant to final goals, but it shows the whitening is working!\n",
    "    plt.subplot(2,1,1)\n",
    "    rel_time = np.arange(0, end-begin, ts)\n",
    "    \n",
    "    plt.plot(rel_time, strain_whitenbp)\n",
    "    plt.xlabel('Seconds since GPS ' + str(begin))\n",
    "    \n",
    "    plt.subplot(2,1,2)\n",
    "    plt.plot(rel_time, strain)\n",
    "    \n",
    "plt.show()"
   ]
  },
  {
   "cell_type": "code",
   "execution_count": null,
   "metadata": {
    "collapsed": true
   },
   "outputs": [],
   "source": []
  }
 ],
 "metadata": {
  "kernelspec": {
   "display_name": "Python 2",
   "language": "python",
   "name": "python2"
  },
  "language_info": {
   "codemirror_mode": {
    "name": "ipython",
    "version": 2
   },
   "file_extension": ".py",
   "mimetype": "text/x-python",
   "name": "python",
   "nbconvert_exporter": "python",
   "pygments_lexer": "ipython2",
   "version": "2.7.13"
  }
 },
 "nbformat": 4,
 "nbformat_minor": 1
}
