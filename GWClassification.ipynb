{
 "cells": [
  {
   "cell_type": "code",
   "execution_count": 2,
   "metadata": {
    "collapsed": false
   },
   "outputs": [],
   "source": [
    "% matplotlib inline\n",
    "\n",
    "import numpy as np\n",
    "\n",
    "import matplotlib.pyplot as plt"
   ]
  },
  {
   "cell_type": "code",
   "execution_count": 3,
   "metadata": {
    "collapsed": false
   },
   "outputs": [
    {
     "ename": "ValueError",
     "evalue": "Some errors were detected !\n    Line #353 (got 1 columns instead of 12)\n    Line #354 (got 1 columns instead of 12)\n    Line #355 (got 1 columns instead of 12)\n    Line #356 (got 1 columns instead of 12)\n    Line #357 (got 1 columns instead of 12)\n    Line #358 (got 1 columns instead of 12)\n    Line #359 (got 1 columns instead of 12)\n    Line #360 (got 1 columns instead of 12)\n    Line #361 (got 1 columns instead of 12)\n    Line #362 (got 1 columns instead of 12)\n    Line #363 (got 1 columns instead of 12)\n    Line #364 (got 1 columns instead of 12)\n    Line #515 (got 1 columns instead of 12)\n    Line #516 (got 1 columns instead of 12)\n    Line #517 (got 1 columns instead of 12)\n    Line #518 (got 1 columns instead of 12)\n    Line #519 (got 1 columns instead of 12)\n    Line #520 (got 1 columns instead of 12)\n    Line #521 (got 1 columns instead of 12)\n    Line #522 (got 1 columns instead of 12)\n    Line #523 (got 1 columns instead of 12)\n    Line #524 (got 1 columns instead of 12)\n    Line #525 (got 1 columns instead of 12)\n    Line #526 (got 1 columns instead of 12)",
     "output_type": "error",
     "traceback": [
      "\u001b[0;31m---------------------------------------------------------------------------\u001b[0m",
      "\u001b[0;31mValueError\u001b[0m                                Traceback (most recent call last)",
      "\u001b[0;32m<ipython-input-3-6b19e1ef1e30>\u001b[0m in \u001b[0;36m<module>\u001b[0;34m()\u001b[0m\n\u001b[0;32m----> 1\u001b[0;31m \u001b[0mH1_data\u001b[0m \u001b[0;34m=\u001b[0m \u001b[0mnp\u001b[0m\u001b[0;34m.\u001b[0m\u001b[0mgenfromtxt\u001b[0m\u001b[0;34m(\u001b[0m\u001b[0;34m'H1_times.csv'\u001b[0m\u001b[0;34m)\u001b[0m\u001b[0;34m\u001b[0m\u001b[0m\n\u001b[0m",
      "\u001b[0;32m/home/jacaseyclyde/anaconda2/lib/python2.7/site-packages/numpy/lib/npyio.pyc\u001b[0m in \u001b[0;36mgenfromtxt\u001b[0;34m(fname, dtype, comments, delimiter, skip_header, skip_footer, converters, missing_values, filling_values, usecols, names, excludelist, deletechars, replace_space, autostrip, case_sensitive, defaultfmt, unpack, usemask, loose, invalid_raise, max_rows)\u001b[0m\n\u001b[1;32m   1767\u001b[0m             \u001b[0;31m# Raise an exception ?\u001b[0m\u001b[0;34m\u001b[0m\u001b[0;34m\u001b[0m\u001b[0m\n\u001b[1;32m   1768\u001b[0m             \u001b[0;32mif\u001b[0m \u001b[0minvalid_raise\u001b[0m\u001b[0;34m:\u001b[0m\u001b[0;34m\u001b[0m\u001b[0m\n\u001b[0;32m-> 1769\u001b[0;31m                 \u001b[0;32mraise\u001b[0m \u001b[0mValueError\u001b[0m\u001b[0;34m(\u001b[0m\u001b[0merrmsg\u001b[0m\u001b[0;34m)\u001b[0m\u001b[0;34m\u001b[0m\u001b[0m\n\u001b[0m\u001b[1;32m   1770\u001b[0m             \u001b[0;31m# Issue a warning ?\u001b[0m\u001b[0;34m\u001b[0m\u001b[0;34m\u001b[0m\u001b[0m\n\u001b[1;32m   1771\u001b[0m             \u001b[0;32melse\u001b[0m\u001b[0;34m:\u001b[0m\u001b[0;34m\u001b[0m\u001b[0m\n",
      "\u001b[0;31mValueError\u001b[0m: Some errors were detected !\n    Line #353 (got 1 columns instead of 12)\n    Line #354 (got 1 columns instead of 12)\n    Line #355 (got 1 columns instead of 12)\n    Line #356 (got 1 columns instead of 12)\n    Line #357 (got 1 columns instead of 12)\n    Line #358 (got 1 columns instead of 12)\n    Line #359 (got 1 columns instead of 12)\n    Line #360 (got 1 columns instead of 12)\n    Line #361 (got 1 columns instead of 12)\n    Line #362 (got 1 columns instead of 12)\n    Line #363 (got 1 columns instead of 12)\n    Line #364 (got 1 columns instead of 12)\n    Line #515 (got 1 columns instead of 12)\n    Line #516 (got 1 columns instead of 12)\n    Line #517 (got 1 columns instead of 12)\n    Line #518 (got 1 columns instead of 12)\n    Line #519 (got 1 columns instead of 12)\n    Line #520 (got 1 columns instead of 12)\n    Line #521 (got 1 columns instead of 12)\n    Line #522 (got 1 columns instead of 12)\n    Line #523 (got 1 columns instead of 12)\n    Line #524 (got 1 columns instead of 12)\n    Line #525 (got 1 columns instead of 12)\n    Line #526 (got 1 columns instead of 12)"
     ]
    }
   ],
   "source": [
    "H1_data = np.genfromtxt('H1_times.csv')"
   ]
  },
  {
   "cell_type": "code",
   "execution_count": null,
   "metadata": {
    "collapsed": true
   },
   "outputs": [],
   "source": []
  }
 ],
 "metadata": {
  "kernelspec": {
   "display_name": "Python 2",
   "language": "python",
   "name": "python2"
  },
  "language_info": {
   "codemirror_mode": {
    "name": "ipython",
    "version": 2
   },
   "file_extension": ".py",
   "mimetype": "text/x-python",
   "name": "python",
   "nbconvert_exporter": "python",
   "pygments_lexer": "ipython2",
   "version": "2.7.13"
  }
 },
 "nbformat": 4,
 "nbformat_minor": 1
}
