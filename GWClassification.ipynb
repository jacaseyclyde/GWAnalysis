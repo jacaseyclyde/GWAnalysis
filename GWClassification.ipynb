{
 "cells": [
  {
   "cell_type": "code",
   "execution_count": 1,
   "metadata": {
    "collapsed": false
   },
   "outputs": [],
   "source": [
    "% matplotlib inline\n",
    "\n",
    "import numpy as np\n",
    "\n",
    "import matplotlib.pyplot as plt"
   ]
  },
  {
   "cell_type": "code",
   "execution_count": 2,
   "metadata": {
    "collapsed": false
   },
   "outputs": [],
   "source": [
    "H1_data = np.genfromtxt('H1_times.csv',names=True)\n",
    "L1_data = np.genfromtxt('L1_times.csv',names=True)"
   ]
  },
  {
   "cell_type": "code",
   "execution_count": 3,
   "metadata": {
    "collapsed": false
   },
   "outputs": [],
   "source": [
    "H1_cbc = H1_data[np.where(H1_data['cbc'] == 1)]\n",
    "H1_burst = H1_data[np.where(H1_data['burst'] == 1)]\n",
    "H1_stoch = H1_data[np.where(H1_data['stoch'] == 1)]"
   ]
  },
  {
   "cell_type": "code",
   "execution_count": 4,
   "metadata": {
    "collapsed": false
   },
   "outputs": [],
   "source": [
    "H1_terr = np.array([])\n",
    "for event in H1_data:\n",
    "    b = event['begin']\n",
    "    e = event['end']\n",
    "    \n",
    "    # find H1 events whose beginings and ends do not overlap with L1 events\n",
    "    b_novr = len(np.where((b > L1_data['begin']) & (b < L1_data['end']))[0]) == 0\n",
    "    e_novr = len(np.where((e > L1_data['begin']) & (e < L1_data['end']))[0]) == 0\n",
    "    \n",
    "    if (b_novr and e_novr):\n",
    "        if (H1_terr.size == 0):\n",
    "            H1_terr = np.array(event)\n",
    "        else:\n",
    "            H1_terr = np.append(H1_terr, event)"
   ]
  },
  {
   "cell_type": "code",
   "execution_count": 5,
   "metadata": {
    "collapsed": false
   },
   "outputs": [],
   "source": [
    "training_events = np.concatenate((H1_cbc,H1_burst,H1_stoch,H1_terr))\n",
    "train = np.delete(training_events,[0,1,7,8,9,10,11])"
   ]
  },
  {
   "cell_type": "code",
   "execution_count": 7,
   "metadata": {
    "collapsed": false
   },
   "outputs": [
    {
     "name": "stdout",
     "output_type": "stream",
     "text": [
      "<type 'numpy.void'>\n"
     ]
    }
   ],
   "source": [
    "print(train[0])"
   ]
  },
  {
   "cell_type": "code",
   "execution_count": null,
   "metadata": {
    "collapsed": true
   },
   "outputs": [],
   "source": []
  }
 ],
 "metadata": {
  "kernelspec": {
   "display_name": "Python 2",
   "language": "python",
   "name": "python2"
  },
  "language_info": {
   "codemirror_mode": {
    "name": "ipython",
    "version": 2
   },
   "file_extension": ".py",
   "mimetype": "text/x-python",
   "name": "python",
   "nbconvert_exporter": "python",
   "pygments_lexer": "ipython2",
   "version": "2.7.13"
  }
 },
 "nbformat": 4,
 "nbformat_minor": 1
}
