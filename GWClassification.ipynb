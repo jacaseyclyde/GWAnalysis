{
 "cells": [
  {
   "cell_type": "code",
   "execution_count": 1,
   "metadata": {
    "collapsed": true
   },
   "outputs": [],
   "source": [
    "% matplotlib inline\n",
    "\n",
    "import numpy as np\n",
    "\n",
    "import matplotlib.pyplot as plt\n",
    "\n",
    "from sklearn.model_selection import GridSearchCV, train_test_split, cross_val_score\n",
    "from sklearn.neural_network import MLPClassifier\n",
    "from sklearn.preprocessing import StandardScaler"
   ]
  },
  {
   "cell_type": "code",
   "execution_count": 2,
   "metadata": {},
   "outputs": [
    {
     "ename": "ValueError",
     "evalue": "Some errors were detected !\n    Line #672 (got 1 columns instead of 12)\n    Line #673 (got 1 columns instead of 12)\n    Line #674 (got 1 columns instead of 12)\n    Line #675 (got 1 columns instead of 12)\n    Line #676 (got 1 columns instead of 12)\n    Line #677 (got 1 columns instead of 12)\n    Line #678 (got 1 columns instead of 12)\n    Line #679 (got 1 columns instead of 12)\n    Line #680 (got 1 columns instead of 12)\n    Line #681 (got 1 columns instead of 12)\n    Line #682 (got 1 columns instead of 12)\n    Line #683 (got 1 columns instead of 12)\n    Line #1075 (got 1 columns instead of 12)\n    Line #1076 (got 1 columns instead of 12)\n    Line #1077 (got 1 columns instead of 12)\n    Line #1078 (got 1 columns instead of 12)\n    Line #1079 (got 1 columns instead of 12)\n    Line #1080 (got 1 columns instead of 12)\n    Line #1081 (got 1 columns instead of 12)\n    Line #1082 (got 1 columns instead of 12)\n    Line #1083 (got 1 columns instead of 12)\n    Line #1084 (got 1 columns instead of 12)\n    Line #1085 (got 1 columns instead of 12)\n    Line #1086 (got 1 columns instead of 12)\n    Line #1087 (got 1 columns instead of 12)\n    Line #1088 (got 1 columns instead of 12)\n    Line #1089 (got 1 columns instead of 12)\n    Line #1090 (got 1 columns instead of 12)\n    Line #1091 (got 1 columns instead of 12)\n    Line #1092 (got 1 columns instead of 12)\n    Line #1093 (got 1 columns instead of 12)\n    Line #1094 (got 1 columns instead of 12)\n    Line #1095 (got 1 columns instead of 12)\n    Line #1096 (got 1 columns instead of 12)\n    Line #1097 (got 1 columns instead of 12)\n    Line #1098 (got 1 columns instead of 12)\n    Line #1099 (got 1 columns instead of 12)\n    Line #1100 (got 1 columns instead of 12)\n    Line #1101 (got 1 columns instead of 12)\n    Line #1102 (got 1 columns instead of 12)\n    Line #1103 (got 1 columns instead of 12)\n    Line #1104 (got 1 columns instead of 12)\n    Line #1105 (got 1 columns instead of 12)\n    Line #1106 (got 1 columns instead of 12)\n    Line #1107 (got 1 columns instead of 12)\n    Line #1108 (got 1 columns instead of 12)\n    Line #1109 (got 1 columns instead of 12)\n    Line #1110 (got 1 columns instead of 12)\n    Line #1584 (got 1 columns instead of 12)\n    Line #1585 (got 1 columns instead of 12)\n    Line #1586 (got 1 columns instead of 12)\n    Line #1587 (got 1 columns instead of 12)\n    Line #1588 (got 1 columns instead of 12)\n    Line #1589 (got 1 columns instead of 12)\n    Line #1590 (got 1 columns instead of 12)\n    Line #1591 (got 1 columns instead of 12)\n    Line #1592 (got 1 columns instead of 12)\n    Line #1593 (got 1 columns instead of 12)\n    Line #1594 (got 1 columns instead of 12)\n    Line #1595 (got 1 columns instead of 12)",
     "output_type": "error",
     "traceback": [
      "\u001b[0;31m---------------------------------------------------------------------------\u001b[0m",
      "\u001b[0;31mValueError\u001b[0m                                Traceback (most recent call last)",
      "\u001b[0;32m<ipython-input-2-deb8e00c3cef>\u001b[0m in \u001b[0;36m<module>\u001b[0;34m()\u001b[0m\n\u001b[0;32m----> 1\u001b[0;31m \u001b[0mH1_data\u001b[0m \u001b[0;34m=\u001b[0m \u001b[0mnp\u001b[0m\u001b[0;34m.\u001b[0m\u001b[0mgenfromtxt\u001b[0m\u001b[0;34m(\u001b[0m\u001b[0;34m'H1_times.csv'\u001b[0m\u001b[0;34m)\u001b[0m\u001b[0;34m\u001b[0m\u001b[0m\n\u001b[0m\u001b[1;32m      2\u001b[0m \u001b[0mL1_data\u001b[0m \u001b[0;34m=\u001b[0m \u001b[0mnp\u001b[0m\u001b[0;34m.\u001b[0m\u001b[0mgenfromtxt\u001b[0m\u001b[0;34m(\u001b[0m\u001b[0;34m'L1_times.csv'\u001b[0m\u001b[0;34m)\u001b[0m\u001b[0;34m\u001b[0m\u001b[0m\n",
      "\u001b[0;32m/usr/local/lib/python2.7/dist-packages/numpy/lib/npyio.pyc\u001b[0m in \u001b[0;36mgenfromtxt\u001b[0;34m(fname, dtype, comments, delimiter, skip_header, skip_footer, converters, missing_values, filling_values, usecols, names, excludelist, deletechars, replace_space, autostrip, case_sensitive, defaultfmt, unpack, usemask, loose, invalid_raise, max_rows)\u001b[0m\n\u001b[1;32m   1767\u001b[0m             \u001b[0;31m# Raise an exception ?\u001b[0m\u001b[0;34m\u001b[0m\u001b[0;34m\u001b[0m\u001b[0m\n\u001b[1;32m   1768\u001b[0m             \u001b[0;32mif\u001b[0m \u001b[0minvalid_raise\u001b[0m\u001b[0;34m:\u001b[0m\u001b[0;34m\u001b[0m\u001b[0m\n\u001b[0;32m-> 1769\u001b[0;31m                 \u001b[0;32mraise\u001b[0m \u001b[0mValueError\u001b[0m\u001b[0;34m(\u001b[0m\u001b[0merrmsg\u001b[0m\u001b[0;34m)\u001b[0m\u001b[0;34m\u001b[0m\u001b[0m\n\u001b[0m\u001b[1;32m   1770\u001b[0m             \u001b[0;31m# Issue a warning ?\u001b[0m\u001b[0;34m\u001b[0m\u001b[0;34m\u001b[0m\u001b[0m\n\u001b[1;32m   1771\u001b[0m             \u001b[0;32melse\u001b[0m\u001b[0;34m:\u001b[0m\u001b[0;34m\u001b[0m\u001b[0m\n",
      "\u001b[0;31mValueError\u001b[0m: Some errors were detected !\n    Line #672 (got 1 columns instead of 12)\n    Line #673 (got 1 columns instead of 12)\n    Line #674 (got 1 columns instead of 12)\n    Line #675 (got 1 columns instead of 12)\n    Line #676 (got 1 columns instead of 12)\n    Line #677 (got 1 columns instead of 12)\n    Line #678 (got 1 columns instead of 12)\n    Line #679 (got 1 columns instead of 12)\n    Line #680 (got 1 columns instead of 12)\n    Line #681 (got 1 columns instead of 12)\n    Line #682 (got 1 columns instead of 12)\n    Line #683 (got 1 columns instead of 12)\n    Line #1075 (got 1 columns instead of 12)\n    Line #1076 (got 1 columns instead of 12)\n    Line #1077 (got 1 columns instead of 12)\n    Line #1078 (got 1 columns instead of 12)\n    Line #1079 (got 1 columns instead of 12)\n    Line #1080 (got 1 columns instead of 12)\n    Line #1081 (got 1 columns instead of 12)\n    Line #1082 (got 1 columns instead of 12)\n    Line #1083 (got 1 columns instead of 12)\n    Line #1084 (got 1 columns instead of 12)\n    Line #1085 (got 1 columns instead of 12)\n    Line #1086 (got 1 columns instead of 12)\n    Line #1087 (got 1 columns instead of 12)\n    Line #1088 (got 1 columns instead of 12)\n    Line #1089 (got 1 columns instead of 12)\n    Line #1090 (got 1 columns instead of 12)\n    Line #1091 (got 1 columns instead of 12)\n    Line #1092 (got 1 columns instead of 12)\n    Line #1093 (got 1 columns instead of 12)\n    Line #1094 (got 1 columns instead of 12)\n    Line #1095 (got 1 columns instead of 12)\n    Line #1096 (got 1 columns instead of 12)\n    Line #1097 (got 1 columns instead of 12)\n    Line #1098 (got 1 columns instead of 12)\n    Line #1099 (got 1 columns instead of 12)\n    Line #1100 (got 1 columns instead of 12)\n    Line #1101 (got 1 columns instead of 12)\n    Line #1102 (got 1 columns instead of 12)\n    Line #1103 (got 1 columns instead of 12)\n    Line #1104 (got 1 columns instead of 12)\n    Line #1105 (got 1 columns instead of 12)\n    Line #1106 (got 1 columns instead of 12)\n    Line #1107 (got 1 columns instead of 12)\n    Line #1108 (got 1 columns instead of 12)\n    Line #1109 (got 1 columns instead of 12)\n    Line #1110 (got 1 columns instead of 12)\n    Line #1584 (got 1 columns instead of 12)\n    Line #1585 (got 1 columns instead of 12)\n    Line #1586 (got 1 columns instead of 12)\n    Line #1587 (got 1 columns instead of 12)\n    Line #1588 (got 1 columns instead of 12)\n    Line #1589 (got 1 columns instead of 12)\n    Line #1590 (got 1 columns instead of 12)\n    Line #1591 (got 1 columns instead of 12)\n    Line #1592 (got 1 columns instead of 12)\n    Line #1593 (got 1 columns instead of 12)\n    Line #1594 (got 1 columns instead of 12)\n    Line #1595 (got 1 columns instead of 12)"
     ]
    }
   ],
   "source": [
    "H1_data = np.genfromtxt('H1_times.csv')\n",
    "L1_data = np.genfromtxt('L1_times.csv')"
   ]
  },
  {
   "cell_type": "code",
   "execution_count": null,
   "metadata": {
    "collapsed": true
   },
   "outputs": [],
   "source": [
    "H1_cbc = H1_data[np.where(H1_data[:,9] == 1)]\n",
    "H1_burst = H1_data[np.where(H1_data[:,10] == 1)]\n",
    "H1_stoch = H1_data[np.where(H1_data[:,11] == 1)]"
   ]
  },
  {
   "cell_type": "code",
   "execution_count": null,
   "metadata": {
    "collapsed": true
   },
   "outputs": [],
   "source": [
    "# using multilabels, with i = 0 = cbc,\n",
    "#                           = 1 = burst,\n",
    "#                           = 2 = stoch,\n",
    "#                           = 3 = terrestrial\n",
    "training = np.array([])\n",
    "target = np.array([])\n",
    "for event in H1_data:\n",
    "    if (event[9] == 1 or event[10] == 1 or event[11] == 1):\n",
    "        if (len(training) == 0):\n",
    "            training = np.array([event[2],event[3],event[4],event[5]])\n",
    "            target = np.array([int(event[9]),int(event[10]),int(event[11]),0])\n",
    "        else:\n",
    "            training = np.vstack((training,np.array([event[2],event[3],event[4],event[5]])))\n",
    "            target = np.vstack((target,np.array([int(event[9]),int(event[10]),int(event[11]),0])))\n",
    "        \n",
    "        continue # not counting hardware injections as terrestrial\n",
    "\n",
    "    \n",
    "    b = event[0]\n",
    "    e = event[1]\n",
    "    \n",
    "    # find H1 events whose beginings and ends do not overlap with L1 events\n",
    "    b_novr = len(np.where((b > L1_data[:,0]) & (b < L1_data[:,1]))[0]) == 0\n",
    "    e_novr = len(np.where((e > L1_data[:,0]) & (e < L1_data[:,1]))[0]) == 0\n",
    "    \n",
    "    if (b_novr and e_novr):\n",
    "        if (len(training) == 0):\n",
    "            training = np.array([event[2],event[3],event[4],event[5]])\n",
    "            target = np.array([0,0,0,1])\n",
    "        else:\n",
    "            training = np.vstack((training,np.array([event[2],event[3],event[4],event[5]])))\n",
    "            target = np.vstack((target, np.array([0,0,0,1])))\n",
    "            \n",
    "for event in L1_data:\n",
    "    if (event[9] == 1 or event[10] == 1 or event[11] == 1):\n",
    "        if (len(training) == 0):\n",
    "            training = np.array([event[2],event[3],event[4],event[5]])\n",
    "            target = np.array([int(event[9]),int(event[10]),int(event[11]),0])\n",
    "        else:\n",
    "            training = np.vstack((training,np.array([event[2],event[3],event[4],event[5]])))\n",
    "            target = np.vstack((target,np.array([int(event[9]),int(event[10]),int(event[11]),0])))\n",
    "        \n",
    "        continue # not counting hardware injections as terrestrial\n",
    "\n",
    "    \n",
    "    b = event[0]\n",
    "    e = event[1]\n",
    "    \n",
    "    # find H1 events whose beginings and ends do not overlap with L1 events\n",
    "    b_novr = len(np.where((b > H1_data[:,0]) & (b < H1_data[:,1]))[0]) == 0\n",
    "    e_novr = len(np.where((e > H1_data[:,0]) & (e < H1_data[:,1]))[0]) == 0\n",
    "    \n",
    "    if (b_novr and e_novr):\n",
    "        if (len(training) == 0):\n",
    "            training = np.array([event[2],event[3],event[4],event[5]])\n",
    "            target = np.array([0,0,0,1])\n",
    "        else:\n",
    "            training = np.vstack((training,np.array([event[2],event[3],event[4],event[5]])))\n",
    "            target = np.vstack((target, np.array([0,0,0,1])))"
   ]
  },
  {
   "cell_type": "code",
   "execution_count": null,
   "metadata": {
    "collapsed": true
   },
   "outputs": [],
   "source": [
    "# scale data for mlp\n",
    "scaler = StandardScaler()  \n",
    "\n",
    "scaler.fit(training)\n",
    "train_scale = scaler.transform(training)"
   ]
  },
  {
   "cell_type": "code",
   "execution_count": null,
   "metadata": {
    "collapsed": true
   },
   "outputs": [],
   "source": [
    "# split for training and testing\n",
    "dat_train, dat_test, tar_train, tar_test = train_test_split(train_scale, target, test_size=0.4)"
   ]
  },
  {
   "cell_type": "code",
   "execution_count": null,
   "metadata": {
    "collapsed": true
   },
   "outputs": [],
   "source": [
    "# MLP params\n",
    "hidden = (3,)\n",
    "activ = 'logistic'\n",
    "solver = 'lbfgs'\n",
    "lrn = 'adaptive'"
   ]
  },
  {
   "cell_type": "code",
   "execution_count": null,
   "metadata": {},
   "outputs": [],
   "source": [
    "mlp = MLPClassifier()\n",
    "parameters = {'hidden_layer_sizes':[(3,)],'activation':['logistic'],'solver':['lbfgs'],learning_rate=['adaptive'],'alpha':(10.0 ** -np.arange(1, 7))}\n",
    "clf = GridSearchCV(mlp, parameters)\n",
    "clf.fit(dat_train,tar_train)"
   ]
  },
  {
   "cell_type": "code",
   "execution_count": null,
   "metadata": {},
   "outputs": [],
   "source": [
    "alpha = clf.best_params_['alpha']\n",
    "\n",
    "mlp = MLPClassifier(hidden_layer_sizes=hidden,activation=activ,solver=solver,learning_rate=lrn,alpha=alpha)\n",
    "mlp.fit(dat_train,tar_train)"
   ]
  },
  {
   "cell_type": "code",
   "execution_count": null,
   "metadata": {},
   "outputs": [],
   "source": [
    "mlp.score(dat_test,tar_test)"
   ]
  },
  {
   "cell_type": "code",
   "execution_count": null,
   "metadata": {
    "collapsed": true
   },
   "outputs": [],
   "source": [
    "scores = cross_val_score(mlp, train_scale, target, cv=10)"
   ]
  },
  {
   "cell_type": "code",
   "execution_count": null,
   "metadata": {},
   "outputs": [],
   "source": [
    "print(\"Accuracy: %0.2f +/- %0.2f\" % (scores.mean(), scores.std() * 2))"
   ]
  },
  {
   "cell_type": "code",
   "execution_count": null,
   "metadata": {},
   "outputs": [],
   "source": [
    "print(np.sum(target, axis=0))"
   ]
  },
  {
   "cell_type": "code",
   "execution_count": null,
   "metadata": {},
   "outputs": [],
   "source": [
    "H1 = np.array([H1_data[:,2],H1_data[:,3],H1_data[:,4],H1_data[:,5]]).T\n",
    "L1 = np.array([L1_data[:,2],L1_data[:,3],L1_data[:,4],L1_data[:,5]]).T\n",
    "print(H1.shape)\n",
    "print()\n",
    "print(train_scale.shape)"
   ]
  },
  {
   "cell_type": "code",
   "execution_count": null,
   "metadata": {
    "collapsed": true
   },
   "outputs": [],
   "source": []
  }
 ],
 "metadata": {
  "kernelspec": {
   "display_name": "Python 2",
   "language": "python",
   "name": "python2"
  },
  "language_info": {
   "codemirror_mode": {
    "name": "ipython",
    "version": 2
   },
   "file_extension": ".py",
   "mimetype": "text/x-python",
   "name": "python",
   "nbconvert_exporter": "python",
   "pygments_lexer": "ipython2",
   "version": "2.7.12"
  }
 },
 "nbformat": 4,
 "nbformat_minor": 1
}
